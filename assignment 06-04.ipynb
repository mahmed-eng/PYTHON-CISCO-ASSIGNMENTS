{
 "cells": [
  {
   "cell_type": "code",
   "execution_count": null,
   "metadata": {},
   "outputs": [],
   "source": [
    "#Python Classes and Objects\n",
    "#Python Classes/Objects\n",
    "#Python is an object oriented programming language.\n",
    "\n",
    "#Almost everything in Python is an object, with its properties and methods.\n",
    "\n",
    "#A Class is like an object constructor, or a \"blueprint\" for creating objects.\n",
    "\n",
    "#Create a Class\n",
    "#To create a class, use the keyword class:\n",
    "\n",
    "#Example\n",
    "#Create a class named MyClass, with a property named x:\n",
    "\n",
    "#class MyClass:\n",
    "#  x = 5\n",
    "#Create Object\n",
    "#Now we can use the class named myClass to create objects:\n",
    "\n",
    "#Example\n",
    "#Create an object named p1, and print the value of x:\n",
    "\n",
    "#p1 = MyClass()\n",
    "#print(p1.x)\n",
    "#The __init__() Function\n",
    "#The examples above are classes and objects in their simplest form, and are not really useful in real life applications.\n",
    "\n",
    "#To understand the meaning of classes we have to understand the built-in __init__() function.\n",
    "\n",
    "#All classes have a function called __init__(), which is always executed when the class is being initiated.\n",
    "\n",
    "#Use the __init__() function to assign values to object properties, or other operations that are necessary to do when the object is being created:\n",
    "\n",
    "#Example\n",
    "#Create a class named Person, use the __init__() function to assign values for name and age:\n",
    "\n",
    "#class Person:\n",
    "#  def __init__(self, name, age):\n",
    "#    self.name = name\n",
    "#    self.age = age\n",
    "\n",
    "#p1 = Person(\"John\", 36)\n",
    "\n",
    "#print(p1.name)\n",
    "#print(p1.age)"
   ]
  }
 ],
 "metadata": {
  "kernelspec": {
   "display_name": "Python 3",
   "language": "python",
   "name": "python3"
  },
  "language_info": {
   "codemirror_mode": {
    "name": "ipython",
    "version": 3
   },
   "file_extension": ".py",
   "mimetype": "text/x-python",
   "name": "python",
   "nbconvert_exporter": "python",
   "pygments_lexer": "ipython3",
   "version": "3.7.4"
  }
 },
 "nbformat": 4,
 "nbformat_minor": 2
}
