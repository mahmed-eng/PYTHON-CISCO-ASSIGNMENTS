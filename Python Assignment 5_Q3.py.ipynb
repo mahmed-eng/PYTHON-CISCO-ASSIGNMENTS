{
 "cells": [
  {
   "cell_type": "code",
   "execution_count": 1,
   "metadata": {},
   "outputs": [
    {
     "name": "stdout",
     "output_type": "stream",
     "text": [
      "10 4 66 "
     ]
    }
   ],
   "source": [
    "#Given a list of numbers, write a Python program to print all even numbers in given list.\n",
    "\n",
    "\n",
    "\n",
    "list1 = [10, 21, 4, 45, 66, 93] \n",
    "  \n",
    "# iterating each number in list \n",
    "for num in list1: \n",
    "      \n",
    "    # checking condition \n",
    "    if num % 2 == 0: \n",
    "       print(num, end = \" \")"
   ]
  },
  {
   "cell_type": "code",
   "execution_count": null,
   "metadata": {},
   "outputs": [],
   "source": []
  }
 ],
 "metadata": {
  "kernelspec": {
   "display_name": "Python 3",
   "language": "python",
   "name": "python3"
  },
  "language_info": {
   "codemirror_mode": {
    "name": "ipython",
    "version": 3
   },
   "file_extension": ".py",
   "mimetype": "text/x-python",
   "name": "python",
   "nbconvert_exporter": "python",
   "pygments_lexer": "ipython3",
   "version": "3.7.4"
  }
 },
 "nbformat": 4,
 "nbformat_minor": 2
}
