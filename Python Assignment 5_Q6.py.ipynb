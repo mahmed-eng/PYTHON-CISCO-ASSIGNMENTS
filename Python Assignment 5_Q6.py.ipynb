{
 "cells": [
  {
   "cell_type": "code",
   "execution_count": null,
   "metadata": {},
   "outputs": [],
   "source": [
    "#Q5Suppose a customer is shopping in a market and you need to print all the items\n",
    "#which user bought from market.\n",
    "#Write a function which accepts the multiple arguments of user shopping list and\n",
    "#print all the items which user bought from market.\n",
    "#(Hint: Arbitrary Argument concept can make this task ease)\n",
    "def customer_shopping(*shopping_list):\n",
    "    print(\"\\n--------- Shopping List --------\")    \n",
    "    for element in shopping_list:\n",
    "        print(\"You bought: \",element)\n",
    "\n",
    "shopping_list = []\n",
    "\n",
    "while True:\n",
    "    items = input(\"\\nEnter the item you bought from market \\nIf you leave enter'quit': \")\n",
    "    if items == 'quit':\n",
    "        break\n",
    "    shopping_list.append(items)\n",
    "\n",
    "customer_shopping(shopping_list)"
   ]
  },
  {
   "cell_type": "code",
   "execution_count": null,
   "metadata": {},
   "outputs": [],
   "source": []
  }
 ],
 "metadata": {
  "kernelspec": {
   "display_name": "Python 3",
   "language": "python",
   "name": "python3"
  },
  "language_info": {
   "codemirror_mode": {
    "name": "ipython",
    "version": 3
   },
   "file_extension": ".py",
   "mimetype": "text/x-python",
   "name": "python",
   "nbconvert_exporter": "python",
   "pygments_lexer": "ipython3",
   "version": "3.7.4"
  }
 },
 "nbformat": 4,
 "nbformat_minor": 2
}
