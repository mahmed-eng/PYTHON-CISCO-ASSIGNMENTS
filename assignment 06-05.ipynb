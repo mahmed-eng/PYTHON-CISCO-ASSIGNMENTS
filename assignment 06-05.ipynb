{
 "cells": [
  {
   "cell_type": "code",
   "execution_count": 1,
   "metadata": {},
   "outputs": [
    {
     "name": "stdout",
     "output_type": "stream",
     "text": [
      "The car model is 2018\n"
     ]
    }
   ],
   "source": [
    "# Creates class Car\n",
    "class Car:\n",
    "\n",
    "    # Creates Car class constructor\n",
    "    def __init__(self, model):\n",
    "        # initialize instance variables\n",
    "        self.model = model\n",
    "\n",
    "    # Creates model property\n",
    "    @property\n",
    "    def model(self):\n",
    "        return self.__model\n",
    "\n",
    "    # Create property setter\n",
    "    @model.setter\n",
    "    def model(self, model):\n",
    "        if model < 2000:\n",
    "            self.__model = 2000\n",
    "        elif model > 2018:\n",
    "            self.__model = 2018\n",
    "        else:\n",
    "            self.__model = model\n",
    "\n",
    "    def getCarModel(self):\n",
    "        return \"The car model is \" + str(self.model)\n",
    "    \n",
    "carA = Car(2088)\n",
    "print(carA.getCarModel())"
   ]
  },
  {
   "cell_type": "code",
   "execution_count": null,
   "metadata": {},
   "outputs": [],
   "source": []
  }
 ],
 "metadata": {
  "kernelspec": {
   "display_name": "Python 3",
   "language": "python",
   "name": "python3"
  },
  "language_info": {
   "codemirror_mode": {
    "name": "ipython",
    "version": 3
   },
   "file_extension": ".py",
   "mimetype": "text/x-python",
   "name": "python",
   "nbconvert_exporter": "python",
   "pygments_lexer": "ipython3",
   "version": "3.7.4"
  }
 },
 "nbformat": 4,
 "nbformat_minor": 2
}
