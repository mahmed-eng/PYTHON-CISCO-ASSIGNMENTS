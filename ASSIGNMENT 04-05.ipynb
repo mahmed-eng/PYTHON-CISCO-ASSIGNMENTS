{
 "cells": [
  {
   "cell_type": "code",
   "execution_count": null,
   "metadata": {},
   "outputs": [
    {
     "name": "stdout",
     "output_type": "stream",
     "text": [
      "Guess a number one through one hundred23\n",
      "too high\n",
      "Guess a number one through one hundred1\n",
      "too low\n",
      "Guess a number one through one hundred50\n",
      "too high\n",
      "Guess a number one through one hundred100\n",
      "too high\n"
     ]
    }
   ],
   "source": [
    "import random\n",
    "it=random.randint(0, 101)\n",
    "def main():\n",
    "    x=int(input('Guess a number one through one hundred'))\n",
    "    if x == it:\n",
    "        print(\"You got it!\")\n",
    "    elif x > it:\n",
    "        print(\"too high\")\n",
    "        main()\n",
    "    else:\n",
    "        print(\"too low\")\n",
    "        main()\n",
    "main()"
   ]
  },
  {
   "cell_type": "code",
   "execution_count": null,
   "metadata": {},
   "outputs": [],
   "source": []
  }
 ],
 "metadata": {
  "kernelspec": {
   "display_name": "Python 3",
   "language": "python",
   "name": "python3"
  },
  "language_info": {
   "codemirror_mode": {
    "name": "ipython",
    "version": 3
   },
   "file_extension": ".py",
   "mimetype": "text/x-python",
   "name": "python",
   "nbconvert_exporter": "python",
   "pygments_lexer": "ipython3",
   "version": "3.7.4"
  }
 },
 "nbformat": 4,
 "nbformat_minor": 2
}
